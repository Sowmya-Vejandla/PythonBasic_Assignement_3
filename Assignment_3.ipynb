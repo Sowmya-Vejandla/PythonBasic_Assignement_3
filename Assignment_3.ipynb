{
 "cells": [
  {
   "cell_type": "raw",
   "id": "b0c69fc6",
   "metadata": {},
   "source": [
    "1. Why are functions advantageous to have in your programs? \n",
    "\n",
    "   Functions provide an organised and productive approach to handling and organising code, increasing maintainance and reusability. They improve the readability, modularity, and abstraction of the code, which facilitates understanding, debugging, and extension of the programme.\n",
    "   \n",
    "   Functions put together a block of code that performs something particular. Once defining it, function can be used again inside one programme or different programmes. This promotes code reuse and helps in writing modular and maintainable code.\n",
    "   \n",
    "   Code maintenance is made easier by functions. If changes or a bug needs to be fixed, you only need to make one change to the function, and all the places where the function is used will receive the updated version. This reduces the chances of introducing errors and makes it easier to update or enhance your code.\n",
    "   \n",
    "   Functions help you to break down complicated tasks into smaller, easier to handle components. Because each function may address specific parts of the larger issue, the code is simpler to understand, test, and debug. It improves programme's overall structure and readability by breaking the code up into smaller functions.\n",
    "   \n"
   ]
  },
  {
   "cell_type": "code",
   "execution_count": 2,
   "id": "8547d2f5",
   "metadata": {},
   "outputs": [
    {
     "name": "stdout",
     "output_type": "stream",
     "text": [
      "function executes after calling it but not when specified\n"
     ]
    }
   ],
   "source": [
    "2. #When does the code in a function run: when it's specified or when it's called?\n",
    "\"\"\"\n",
    "The code in a function run when it is called but not it is specified.\n",
    "When a function is defined or specified, the code won't run. \n",
    "\"\"\"\n",
    "def func():\n",
    "    print(\"function executes after calling it but not when specified\")\n",
    "    \n",
    "func()"
   ]
  },
  {
   "cell_type": "code",
   "execution_count": 3,
   "id": "6a9ea4e9",
   "metadata": {},
   "outputs": [
    {
     "data": {
      "text/plain": [
       "9"
      ]
     },
     "execution_count": 3,
     "metadata": {},
     "output_type": "execute_result"
    }
   ],
   "source": [
    "3. #What statement creates a function?\n",
    "\"\"\"\n",
    "   The 'statement' that used to create a function is known as function definition or declaration. The keyword that used to define a function is 'def'.\n",
    "   \n",
    "   Syntax:\n",
    "          def function_name(parameters):\n",
    "    #intendation is so important to define  \n",
    "\"\"\"\n",
    "def addition(a,b):\n",
    "    sum=a+b\n",
    "    return sum\n",
    "addition(3,6)\n",
    "        "
   ]
  },
  {
   "cell_type": "raw",
   "id": "0e29bb7d",
   "metadata": {},
   "source": [
    "4. What is the difference between a function and a function call?\n",
    "\n",
    "   Function is a section of code that defines an action and may take inputs or produce outputs.\n",
    "   \n",
    "   Function call is the act of utilising a function in a program's flow by passing arguments and causing the function's code to run.\n",
    "   \n",
    "   Function calls are the means by which to use and execute those functions with particular inputs, whereas functions act as reusable units of code.\n"
   ]
  },
  {
   "cell_type": "raw",
   "id": "acc4653d",
   "metadata": {},
   "source": [
    "5. How many global scopes are there in a Python program? How many local scopes?\n",
    "\n",
    "   In a Python program, we have one(1) global scopes and multiple local scopes.\n",
    "    \n",
    "   The global scope refers to the outermost scope of a program or module. It is the top-level scope that contains variables, functions, and classes that are defined without any function or class definitions. The entire programme has access to the variables defined in the global scope. Throughout the course of the program's execution, the global scope is present.\n",
    "   \n",
    "   When a function or a class is defined, local scopes are produced. A new local scope is introduced with each definition of a function. Only that particular scope and its sub scopes can access variables created in a local scope. As functions or methods are called and executed, local scopes are generated  on a temporary basis."
   ]
  },
  {
   "cell_type": "raw",
   "id": "047b3250",
   "metadata": {},
   "source": [
    "6. What happens to variables in a local scope when the function call returns?\n",
    "\n",
    "   The local scope of a function, along with all the variables specified within it, are destroyed when the function call returns. Once the function call is finished, the variables defined in the local scope are no longer accessable or usable. When a function has finished running, the program's control is returned to the line that came right after the function call. The function's local scope is now ignored, and any variables defined there are now no longer valid. \n",
    "\n",
    "   "
   ]
  },
  {
   "cell_type": "raw",
   "id": "2fdae19b",
   "metadata": {},
   "source": [
    "7. What is the concept of a return value? Is it possible to have a return value in an expression?\n",
    "\n",
    "   The phrase \"return value\" describes the outcome of a function that is sent back to the place in the programme where the function was called. When a function is called, it may carry out certain computations or operations and, if needed, return a value. The return value may be applied to additional processing, assigned to variables, or included in a programme expression."
   ]
  },
  {
   "cell_type": "raw",
   "id": "64760cd4",
   "metadata": {},
   "source": [
    "8. If a function does not have a return statement, what is the return value of a call to that function?\n",
    "\n",
    "   A function will automatically return a special value called \"None\" if it ends without meeting a return statement or if it does not have a return statement. Python has an inbuilt constant called \"None\" that stands for the lack of a value or a meaningful outcome. It's commonly utilised to say that a function doesn't produce a certain return value."
   ]
  },
  {
   "cell_type": "raw",
   "id": "d6f88e3a",
   "metadata": {},
   "source": [
    "9. How do you make a function variable refer to the global variable?\n",
    "\n",
    "   In Python, you can use the global keyword within a function to make a function variable refer to a global variable. Using the global keyword, you can tell a function that a specific variable should refer to a global variable of the same name."
   ]
  },
  {
   "cell_type": "code",
   "execution_count": 4,
   "id": "f7999d15",
   "metadata": {},
   "outputs": [
    {
     "name": "stdout",
     "output_type": "stream",
     "text": [
      "<class 'NoneType'>\n"
     ]
    }
   ],
   "source": [
    "10. #What is the data type of None?\n",
    "\n",
    "\"\"\"\n",
    "    In Python, the data type of None is a special type called \"NoneType\". It represents the absence of a value or the lack of a meaningful result. It is a built-in type and the sole instance of the \"NoneType\" class.\n",
    "\"\"\"\n",
    "print(type(None))"
   ]
  },
  {
   "cell_type": "raw",
   "id": "20fe43f8",
   "metadata": {},
   "source": [
    "11. What does the sentence import areallyourpetsnamederic do?\n",
    "\n",
    "    The sentence \"import areallyourpetsnamederic\" does not have any predefined meaning or functionality in Python. It is not a valid import statement that would import a module or enable access to any existing Python functionality. The import statement is used to import modules or specific attributes from modules, allowing you to access their defined functions, classes, variables, and other resources. However, the sentence \"import areallyourpetsnamederic\" is not a recognized module or standard Python construct.\n",
    "    \n",
    "    In general, the import statement should be used with valid module names or package names that correspond to existing Python modules or packages you intend to utilize in your code."
   ]
  },
  {
   "cell_type": "raw",
   "id": "6ff18d27",
   "metadata": {},
   "source": [
    "12. If you had a bacon() feature in a spam module, what would you call it after importing spam?\n",
    "\n",
    "    After importing the spam module, you can access the bacon() feature using the dot notation. i.e; (spam.bacon()), we can call it as:\n",
    "    \n",
    "    import spam\n",
    "    spam.bacon()"
   ]
  },
  {
   "cell_type": "code",
   "execution_count": 5,
   "id": "181136e5",
   "metadata": {},
   "outputs": [
    {
     "name": "stdout",
     "output_type": "stream",
     "text": [
      "Object `error` not found.\n",
      "nr: 10\n",
      "dr: 5\n",
      "2.0\n"
     ]
    }
   ],
   "source": [
    "13. What can you do to save a programme from crashing if it encounters an error?\n",
    "\n",
    "\"\"\"\n",
    "    I can use error handling strategies to catch and handle exceptions to stop programmes from crashing when they meet errors. I can catch and handle particular errors that may arise while your programme is being executed by using the \"try-except\" block form that Python offers.\n",
    "\"\"\"\n",
    "try:\n",
    "    n=int(input('nr: '))\n",
    "    d=int(input(\"dr: \"))\n",
    "    div=n/d\n",
    "    print(div)\n",
    "except ZeroDivisionError:\n",
    "    print(\"dr should be not zero\")"
   ]
  },
  {
   "cell_type": "code",
   "execution_count": 6,
   "id": "66eb9ae7",
   "metadata": {},
   "outputs": [
    {
     "name": "stdout",
     "output_type": "stream",
     "text": [
      "Object `clause` not found.\n",
      "nr: 10\n",
      "dr: 0\n",
      "dr should be not zero\n"
     ]
    }
   ],
   "source": [
    "14. What is the purpose of the try clause? What is the purpose of the except clause?\n",
    "\n",
    "\"\"\"\n",
    "    The try and except clauses are used together in a \"try-except\" block to handle exceptions in Python. \n",
    "    \n",
    "    try: When a piece of code has a chance to cause an exception, the 'try' clause is used to contain it. The purpose of this task is to find a code the area that might contain an exception and to build up the system needed to catch and manage those exceptions. If an exception arises while the code in the 'try' block is being performed, the programme moves to the corresponding except block.\n",
    "\n",
    "    except: The related 'try' block's except clause specifies how to deal with particular exceptions that may arise. It details the kind of exception to catch as well as the code that needs to run when that particular exception occurs. The except block's functions include providing error-handling code, carrying out the necessary tasks, logging errors, displaying informative warnings, or otherwise taking any necessary actions to handle exceptions  and keep the programme from crashing.\n",
    "\"\"\"\n",
    "try:\n",
    "    n=int(input('nr: '))\n",
    "    d=int(input(\"dr: \"))\n",
    "    div=n/d\n",
    "    print(div)\n",
    "except ZeroDivisionError:\n",
    "    print(\"dr should be not zero\")"
   ]
  }
 ],
 "metadata": {
  "kernelspec": {
   "display_name": "Python 3 (ipykernel)",
   "language": "python",
   "name": "python3"
  },
  "language_info": {
   "codemirror_mode": {
    "name": "ipython",
    "version": 3
   },
   "file_extension": ".py",
   "mimetype": "text/x-python",
   "name": "python",
   "nbconvert_exporter": "python",
   "pygments_lexer": "ipython3",
   "version": "3.10.9"
  }
 },
 "nbformat": 4,
 "nbformat_minor": 5
}
